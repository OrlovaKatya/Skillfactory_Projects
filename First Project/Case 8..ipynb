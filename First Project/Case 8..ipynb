{
 "cells": [
  {
   "cell_type": "markdown",
   "metadata": {},
   "source": [
    " # А8.1.4 Наши гипотезы\n",
    " \n",
    "Формулируем наши задачи и гипотезы\n",
    "\n",
    "Давайте разберёмся, чего именно хочет от нас Сергей.\n",
    "\n",
    " 1. Определить самые распространенные пути прохождения этапов в приложении – это позволит команде понять, как пользователи пользуются приложением, соотнести идеальный путь пользователей (описанный выше) с фактическим.\n",
    " 2. Посмотреть на среднее время между различными этапами: выделив этапы, которые занимают больше всего времени, мы сможем их оптимизировать.\n",
    " 3. Проанализировать зависимость оплат от прохождения обучения. Для этого нам нужно будет определить существует ли различие в частоте и средней величине оплат между 3 группами пользователей:\n",
    " - Пользователями, которые прошли обучение хотя бы раз.\n",
    " - Пользователями, которые начали обучение, но не прошли его ни разу.\n",
    " - Пользователями, которые не начинали обучение, а сразу же перешли к выбору уровня сложности."
   ]
  },
  {
   "cell_type": "markdown",
   "metadata": {},
   "source": [
    "Все примеры будут приводиться на основе данных пользователей, зарегистрировавшихся в 2016 году (с 1 января по 31 декабря 2016 года включительно).\n",
    "\n",
    "Чтобы вы могли попрактиковать каждый шаг анализа, мы просим вас решать задания на другой выборке пользователей — зарегистрировавшихся в 2017 году. Период анализа — с 1 января по 31 декабря 2017 года."
   ]
  },
  {
   "cell_type": "markdown",
   "metadata": {},
   "source": [
    " # А8.2.1 Импорт библиотек\n",
    " \n",
    "Импорт библиотек\n",
    "\n",
    "Сначала импортируем нужные библиотеки."
   ]
  },
  {
   "cell_type": "code",
   "execution_count": 2,
   "metadata": {},
   "outputs": [
    {
     "name": "stdout",
     "output_type": "stream",
     "text": [
      "Collecting psycopg2\n",
      "  Downloading psycopg2-2.8.5-cp37-cp37m-win_amd64.whl (1.1 MB)\n",
      "Installing collected packages: psycopg2\n",
      "Successfully installed psycopg2-2.8.5\n"
     ]
    }
   ],
   "source": [
    "!pip install psycopg2  "
   ]
  },
  {
   "cell_type": "code",
   "execution_count": 3,
   "metadata": {},
   "outputs": [],
   "source": [
    "import pandas as pd\n",
    "import psycopg2\n",
    "import psycopg2.extras \n",
    "import numpy as np"
   ]
  },
  {
   "cell_type": "markdown",
   "metadata": {},
   "source": [
    "Первым делом нам нужно получить данные из базы данных. Сделать мы это можем с помощью библиотеки psycopg2, которая позволяет делать запросы к БД PostgreSQL из Python.\n",
    "\n",
    "Напишем две функции:\n",
    "\n",
    "Функция getEventsData() получает данные по событиям пользователей, которые зарегистрировались в 2017 году.\n",
    "\n",
    "Функция getPurchaseData() получает данные по оплатам пользователей, которые зарегистрировались в 2017 году.\n",
    "\n",
    "Обратите внимание на параметр курсора cursor_factory=psycopg2.extras.DictCursor. Благодаря этому параметру мы можем получать данные из базы в формате списка словарей. Потом очень удобно будет загрузить такие данные в датафрейм. Результат, возвращаемый каждой функцией после исполнения, запишем в датафреймы events_df и purchase_df."
   ]
  },
  {
   "cell_type": "code",
   "execution_count": 7,
   "metadata": {},
   "outputs": [],
   "source": [
    "def getEventsData():\n",
    "    query = '''SELECT e.* FROM case8.events e\n",
    "    WHERE e.user_id in\n",
    "    (SELECT DISTINCT(user_id) \n",
    "    FROM case8.events \n",
    "    WHERE event_type = 'registration' \n",
    "    AND start_time >= '2017-01-01'\n",
    "    AND start_time < '2018-01-01')\n",
    "    '''.format()\n",
    "    conn = psycopg2.connect(\"dbname='skillfactory' user='skillfactory' host='84.201.134.129' password='cCkxxLVrDE8EbvjueeMedPKt' port=5432\")\n",
    "    dict_cur = conn.cursor(cursor_factory=psycopg2.extras.DictCursor)\n",
    "    dict_cur.execute(query)\n",
    "    rows = dict_cur.fetchall()\n",
    "    data = []\n",
    "    for row in rows:\n",
    "        data.append(dict(row))\n",
    "    return data\n",
    "\n",
    "def getPurchaseData():\n",
    "    query = '''SELECT p.* FROM case8.purchase p\n",
    "    WHERE p.user_id in\n",
    "    (SELECT DISTINCT(user_id) \n",
    "    FROM case8.events \n",
    "    WHERE event_type = 'registration' \n",
    "    AND start_time >= '2017-01-01'\n",
    "    AND start_time < '2018-01-01')\n",
    "    '''.format()\n",
    "    conn = psycopg2.connect(\"dbname='skillfactory' user='skillfactory' host='84.201.134.129' password='cCkxxLVrDE8EbvjueeMedPKt' port=5432\")\n",
    "    dict_cur = conn.cursor(cursor_factory=psycopg2.extras.DictCursor)\n",
    "    dict_cur.execute(query)\n",
    "    rows = dict_cur.fetchall()\n",
    "    data = []\n",
    "    for row in rows:\n",
    "        data.append(dict(row))\n",
    "    return data\n",
    "\n",
    "events_df = pd.DataFrame(getEventsData())\n",
    "purchase_df = pd.DataFrame(getPurchaseData())"
   ]
  },
  {
   "cell_type": "code",
   "execution_count": 8,
   "metadata": {},
   "outputs": [
    {
     "data": {
      "text/html": [
       "<div>\n",
       "<style scoped>\n",
       "    .dataframe tbody tr th:only-of-type {\n",
       "        vertical-align: middle;\n",
       "    }\n",
       "\n",
       "    .dataframe tbody tr th {\n",
       "        vertical-align: top;\n",
       "    }\n",
       "\n",
       "    .dataframe thead th {\n",
       "        text-align: right;\n",
       "    }\n",
       "</style>\n",
       "<table border=\"1\" class=\"dataframe\">\n",
       "  <thead>\n",
       "    <tr style=\"text-align: right;\">\n",
       "      <th></th>\n",
       "      <th>event_type</th>\n",
       "      <th>selected_level</th>\n",
       "      <th>start_time</th>\n",
       "      <th>tutorial_id</th>\n",
       "      <th>user_id</th>\n",
       "      <th>id</th>\n",
       "    </tr>\n",
       "  </thead>\n",
       "  <tbody>\n",
       "    <tr>\n",
       "      <th>0</th>\n",
       "      <td>registration</td>\n",
       "      <td>None</td>\n",
       "      <td>2017-01-01 03:48:40</td>\n",
       "      <td>NaN</td>\n",
       "      <td>27832</td>\n",
       "      <td>80308</td>\n",
       "    </tr>\n",
       "    <tr>\n",
       "      <th>1</th>\n",
       "      <td>registration</td>\n",
       "      <td>None</td>\n",
       "      <td>2017-01-01 04:07:25</td>\n",
       "      <td>NaN</td>\n",
       "      <td>27833</td>\n",
       "      <td>80309</td>\n",
       "    </tr>\n",
       "    <tr>\n",
       "      <th>2</th>\n",
       "      <td>registration</td>\n",
       "      <td>None</td>\n",
       "      <td>2017-01-01 08:35:10</td>\n",
       "      <td>NaN</td>\n",
       "      <td>27834</td>\n",
       "      <td>80310</td>\n",
       "    </tr>\n",
       "    <tr>\n",
       "      <th>3</th>\n",
       "      <td>registration</td>\n",
       "      <td>None</td>\n",
       "      <td>2017-01-01 11:54:47</td>\n",
       "      <td>NaN</td>\n",
       "      <td>27835</td>\n",
       "      <td>80311</td>\n",
       "    </tr>\n",
       "    <tr>\n",
       "      <th>4</th>\n",
       "      <td>registration</td>\n",
       "      <td>None</td>\n",
       "      <td>2017-01-01 13:28:07</td>\n",
       "      <td>NaN</td>\n",
       "      <td>27836</td>\n",
       "      <td>80312</td>\n",
       "    </tr>\n",
       "    <tr>\n",
       "      <th>5</th>\n",
       "      <td>registration</td>\n",
       "      <td>None</td>\n",
       "      <td>2017-01-01 14:08:40</td>\n",
       "      <td>NaN</td>\n",
       "      <td>27837</td>\n",
       "      <td>80313</td>\n",
       "    </tr>\n",
       "    <tr>\n",
       "      <th>6</th>\n",
       "      <td>registration</td>\n",
       "      <td>None</td>\n",
       "      <td>2017-01-01 14:42:58</td>\n",
       "      <td>NaN</td>\n",
       "      <td>27838</td>\n",
       "      <td>80314</td>\n",
       "    </tr>\n",
       "    <tr>\n",
       "      <th>7</th>\n",
       "      <td>tutorial_start</td>\n",
       "      <td>None</td>\n",
       "      <td>2017-01-01 14:54:40</td>\n",
       "      <td>31505.0</td>\n",
       "      <td>27836</td>\n",
       "      <td>80315</td>\n",
       "    </tr>\n",
       "    <tr>\n",
       "      <th>8</th>\n",
       "      <td>tutorial_start</td>\n",
       "      <td>None</td>\n",
       "      <td>2017-01-01 15:00:51</td>\n",
       "      <td>31506.0</td>\n",
       "      <td>27835</td>\n",
       "      <td>80316</td>\n",
       "    </tr>\n",
       "    <tr>\n",
       "      <th>9</th>\n",
       "      <td>tutorial_finish</td>\n",
       "      <td>None</td>\n",
       "      <td>2017-01-01 15:06:15</td>\n",
       "      <td>31506.0</td>\n",
       "      <td>27835</td>\n",
       "      <td>80317</td>\n",
       "    </tr>\n",
       "  </tbody>\n",
       "</table>\n",
       "</div>"
      ],
      "text/plain": [
       "        event_type selected_level          start_time  tutorial_id  user_id  \\\n",
       "0     registration           None 2017-01-01 03:48:40          NaN    27832   \n",
       "1     registration           None 2017-01-01 04:07:25          NaN    27833   \n",
       "2     registration           None 2017-01-01 08:35:10          NaN    27834   \n",
       "3     registration           None 2017-01-01 11:54:47          NaN    27835   \n",
       "4     registration           None 2017-01-01 13:28:07          NaN    27836   \n",
       "5     registration           None 2017-01-01 14:08:40          NaN    27837   \n",
       "6     registration           None 2017-01-01 14:42:58          NaN    27838   \n",
       "7   tutorial_start           None 2017-01-01 14:54:40      31505.0    27836   \n",
       "8   tutorial_start           None 2017-01-01 15:00:51      31506.0    27835   \n",
       "9  tutorial_finish           None 2017-01-01 15:06:15      31506.0    27835   \n",
       "\n",
       "      id  \n",
       "0  80308  \n",
       "1  80309  \n",
       "2  80310  \n",
       "3  80311  \n",
       "4  80312  \n",
       "5  80313  \n",
       "6  80314  \n",
       "7  80315  \n",
       "8  80316  \n",
       "9  80317  "
      ]
     },
     "execution_count": 8,
     "metadata": {},
     "output_type": "execute_result"
    }
   ],
   "source": [
    "events_df.head(10)"
   ]
  },
  {
   "cell_type": "markdown",
   "metadata": {},
   "source": [
    "Мы, конечно, можем уже что-то сказать по поводу данных, посмотрев на первые 10 строчек, но лучше использовать более точные методы анализа. Воспользуемся методом info(), который позволяет получить общую информацию о датафрейме, для того, чтобы оценить какие данные содержаться в датафрейме events_df:"
   ]
  },
  {
   "cell_type": "code",
   "execution_count": 9,
   "metadata": {},
   "outputs": [
    {
     "name": "stdout",
     "output_type": "stream",
     "text": [
      "<class 'pandas.core.frame.DataFrame'>\n",
      "RangeIndex: 66959 entries, 0 to 66958\n",
      "Data columns (total 6 columns):\n",
      " #   Column          Non-Null Count  Dtype         \n",
      "---  ------          --------------  -----         \n",
      " 0   event_type      66959 non-null  object        \n",
      " 1   selected_level  8342 non-null   object        \n",
      " 2   start_time      66959 non-null  datetime64[ns]\n",
      " 3   tutorial_id     32954 non-null  float64       \n",
      " 4   user_id         66959 non-null  int64         \n",
      " 5   id              66959 non-null  int64         \n",
      "dtypes: datetime64[ns](1), float64(1), int64(2), object(2)\n",
      "memory usage: 3.1+ MB\n"
     ]
    }
   ],
   "source": [
    "events_df.info()"
   ]
  },
  {
   "cell_type": "markdown",
   "metadata": {},
   "source": [
    "Итак, мы видим, что датафрейм events_df содержит 66959 строк и 6 столбцов. При этом все строки содержат значения в столбцах id, user_id, start_time, event_type, а остальные столбцы содержат пропущенные значения, например столбец selected_level содержит непустые значения только в 8342 строках."
   ]
  },
  {
   "cell_type": "markdown",
   "metadata": {},
   "source": [
    "Исследуем пропуски\n",
    "\n",
    "Наличие пропущенных строк обусловлено тем, что не все из параметров selected_level, tutorial_id присутствуют в каждом из событий. Эти параметры заполнятся в зависимости от event_type. К примеру, посмотрим на events_df, если оставить в нем только такие строки, где event_type = level_choice:"
   ]
  },
  {
   "cell_type": "code",
   "execution_count": 10,
   "metadata": {},
   "outputs": [
    {
     "name": "stdout",
     "output_type": "stream",
     "text": [
      "<class 'pandas.core.frame.DataFrame'>\n",
      "Int64Index: 8342 entries, 19 to 66957\n",
      "Data columns (total 6 columns):\n",
      " #   Column          Non-Null Count  Dtype         \n",
      "---  ------          --------------  -----         \n",
      " 0   event_type      8342 non-null   object        \n",
      " 1   selected_level  8342 non-null   object        \n",
      " 2   start_time      8342 non-null   datetime64[ns]\n",
      " 3   tutorial_id     0 non-null      float64       \n",
      " 4   user_id         8342 non-null   int64         \n",
      " 5   id              8342 non-null   int64         \n",
      "dtypes: datetime64[ns](1), float64(1), int64(2), object(2)\n",
      "memory usage: 456.2+ KB\n"
     ]
    }
   ],
   "source": [
    "events_df[events_df['event_type'] == 'level_choice'].info()"
   ]
  },
  {
   "cell_type": "markdown",
   "metadata": {},
   "source": [
    "Как видно, этот срез датафрейма не содержит пропущенных значений в столбце selected_level, но зато содержит пропуски в tutorial_id. Это связано с тем, что для событий типа level_choice не предусмотрена запись параметра tutorial_id.\n",
    "\n",
    "Теперь проверим аналогичные данные, но при условии, что срез будет содержать данные о событиях tutorial_start и tutorial_finish:"
   ]
  },
  {
   "cell_type": "code",
   "execution_count": 11,
   "metadata": {},
   "outputs": [
    {
     "name": "stdout",
     "output_type": "stream",
     "text": [
      "<class 'pandas.core.frame.DataFrame'>\n",
      "Int64Index: 32954 entries, 7 to 66955\n",
      "Data columns (total 6 columns):\n",
      " #   Column          Non-Null Count  Dtype         \n",
      "---  ------          --------------  -----         \n",
      " 0   event_type      32954 non-null  object        \n",
      " 1   selected_level  0 non-null      object        \n",
      " 2   start_time      32954 non-null  datetime64[ns]\n",
      " 3   tutorial_id     32954 non-null  float64       \n",
      " 4   user_id         32954 non-null  int64         \n",
      " 5   id              32954 non-null  int64         \n",
      "dtypes: datetime64[ns](1), float64(1), int64(2), object(2)\n",
      "memory usage: 1.8+ MB\n"
     ]
    }
   ],
   "source": [
    "events_df[events_df['event_type'].isin(['tutorial_start','tutorial_finish'])].info()"
   ]
  },
  {
   "cell_type": "markdown",
   "metadata": {},
   "source": [
    "Столбец selected_level в таком срезе не содержит ни одного значения. Это связано с тем, что для событий, связанных с обучением, отсутствуют параметры выбора уровня сложности selected_level. А вот остальные столбцы заполнены полностью."
   ]
  },
  {
   "cell_type": "markdown",
   "metadata": {},
   "source": [
    "Исследуем значения\n",
    "\n",
    "Вызовем метод describe() для того, чтобы оценить характеристики каждого столбца. По умолчанию метод describe() выдает характеристики только по столбцам с численными типами (например, int64, float64). Мы вызовем этот метод с параметром include='all' для того, чтобы отображать характеристики для всех столбцов."
   ]
  },
  {
   "cell_type": "code",
   "execution_count": 12,
   "metadata": {},
   "outputs": [
    {
     "data": {
      "text/html": [
       "<div>\n",
       "<style scoped>\n",
       "    .dataframe tbody tr th:only-of-type {\n",
       "        vertical-align: middle;\n",
       "    }\n",
       "\n",
       "    .dataframe tbody tr th {\n",
       "        vertical-align: top;\n",
       "    }\n",
       "\n",
       "    .dataframe thead th {\n",
       "        text-align: right;\n",
       "    }\n",
       "</style>\n",
       "<table border=\"1\" class=\"dataframe\">\n",
       "  <thead>\n",
       "    <tr style=\"text-align: right;\">\n",
       "      <th></th>\n",
       "      <th>event_type</th>\n",
       "      <th>selected_level</th>\n",
       "      <th>start_time</th>\n",
       "      <th>tutorial_id</th>\n",
       "      <th>user_id</th>\n",
       "      <th>id</th>\n",
       "    </tr>\n",
       "  </thead>\n",
       "  <tbody>\n",
       "    <tr>\n",
       "      <th>count</th>\n",
       "      <td>66959</td>\n",
       "      <td>8342</td>\n",
       "      <td>66959</td>\n",
       "      <td>32954.000000</td>\n",
       "      <td>66959.000000</td>\n",
       "      <td>66959.000000</td>\n",
       "    </tr>\n",
       "    <tr>\n",
       "      <th>unique</th>\n",
       "      <td>5</td>\n",
       "      <td>3</td>\n",
       "      <td>66809</td>\n",
       "      <td>NaN</td>\n",
       "      <td>NaN</td>\n",
       "      <td>NaN</td>\n",
       "    </tr>\n",
       "    <tr>\n",
       "      <th>top</th>\n",
       "      <td>registration</td>\n",
       "      <td>medium</td>\n",
       "      <td>2017-03-13 09:37:43</td>\n",
       "      <td>NaN</td>\n",
       "      <td>NaN</td>\n",
       "      <td>NaN</td>\n",
       "    </tr>\n",
       "    <tr>\n",
       "      <th>freq</th>\n",
       "      <td>19926</td>\n",
       "      <td>4645</td>\n",
       "      <td>9</td>\n",
       "      <td>NaN</td>\n",
       "      <td>NaN</td>\n",
       "      <td>NaN</td>\n",
       "    </tr>\n",
       "    <tr>\n",
       "      <th>first</th>\n",
       "      <td>NaN</td>\n",
       "      <td>NaN</td>\n",
       "      <td>2017-01-01 03:48:40</td>\n",
       "      <td>NaN</td>\n",
       "      <td>NaN</td>\n",
       "      <td>NaN</td>\n",
       "    </tr>\n",
       "    <tr>\n",
       "      <th>last</th>\n",
       "      <td>NaN</td>\n",
       "      <td>NaN</td>\n",
       "      <td>2018-01-01 05:50:36</td>\n",
       "      <td>NaN</td>\n",
       "      <td>NaN</td>\n",
       "      <td>NaN</td>\n",
       "    </tr>\n",
       "    <tr>\n",
       "      <th>mean</th>\n",
       "      <td>NaN</td>\n",
       "      <td>NaN</td>\n",
       "      <td>NaN</td>\n",
       "      <td>40532.934393</td>\n",
       "      <td>37781.543362</td>\n",
       "      <td>113787.000045</td>\n",
       "    </tr>\n",
       "    <tr>\n",
       "      <th>std</th>\n",
       "      <td>NaN</td>\n",
       "      <td>NaN</td>\n",
       "      <td>NaN</td>\n",
       "      <td>5213.486632</td>\n",
       "      <td>5751.497904</td>\n",
       "      <td>19329.542752</td>\n",
       "    </tr>\n",
       "    <tr>\n",
       "      <th>min</th>\n",
       "      <td>NaN</td>\n",
       "      <td>NaN</td>\n",
       "      <td>NaN</td>\n",
       "      <td>31505.000000</td>\n",
       "      <td>27832.000000</td>\n",
       "      <td>80308.000000</td>\n",
       "    </tr>\n",
       "    <tr>\n",
       "      <th>25%</th>\n",
       "      <td>NaN</td>\n",
       "      <td>NaN</td>\n",
       "      <td>NaN</td>\n",
       "      <td>36008.250000</td>\n",
       "      <td>32849.000000</td>\n",
       "      <td>97047.500000</td>\n",
       "    </tr>\n",
       "    <tr>\n",
       "      <th>50%</th>\n",
       "      <td>NaN</td>\n",
       "      <td>NaN</td>\n",
       "      <td>NaN</td>\n",
       "      <td>40529.500000</td>\n",
       "      <td>37719.000000</td>\n",
       "      <td>113787.000000</td>\n",
       "    </tr>\n",
       "    <tr>\n",
       "      <th>75%</th>\n",
       "      <td>NaN</td>\n",
       "      <td>NaN</td>\n",
       "      <td>NaN</td>\n",
       "      <td>45057.750000</td>\n",
       "      <td>42733.000000</td>\n",
       "      <td>130526.500000</td>\n",
       "    </tr>\n",
       "    <tr>\n",
       "      <th>max</th>\n",
       "      <td>NaN</td>\n",
       "      <td>NaN</td>\n",
       "      <td>NaN</td>\n",
       "      <td>49554.000000</td>\n",
       "      <td>47757.000000</td>\n",
       "      <td>147267.000000</td>\n",
       "    </tr>\n",
       "  </tbody>\n",
       "</table>\n",
       "</div>"
      ],
      "text/plain": [
       "          event_type selected_level           start_time   tutorial_id  \\\n",
       "count          66959           8342                66959  32954.000000   \n",
       "unique             5              3                66809           NaN   \n",
       "top     registration         medium  2017-03-13 09:37:43           NaN   \n",
       "freq           19926           4645                    9           NaN   \n",
       "first            NaN            NaN  2017-01-01 03:48:40           NaN   \n",
       "last             NaN            NaN  2018-01-01 05:50:36           NaN   \n",
       "mean             NaN            NaN                  NaN  40532.934393   \n",
       "std              NaN            NaN                  NaN   5213.486632   \n",
       "min              NaN            NaN                  NaN  31505.000000   \n",
       "25%              NaN            NaN                  NaN  36008.250000   \n",
       "50%              NaN            NaN                  NaN  40529.500000   \n",
       "75%              NaN            NaN                  NaN  45057.750000   \n",
       "max              NaN            NaN                  NaN  49554.000000   \n",
       "\n",
       "             user_id             id  \n",
       "count   66959.000000   66959.000000  \n",
       "unique           NaN            NaN  \n",
       "top              NaN            NaN  \n",
       "freq             NaN            NaN  \n",
       "first            NaN            NaN  \n",
       "last             NaN            NaN  \n",
       "mean    37781.543362  113787.000045  \n",
       "std      5751.497904   19329.542752  \n",
       "min     27832.000000   80308.000000  \n",
       "25%     32849.000000   97047.500000  \n",
       "50%     37719.000000  113787.000000  \n",
       "75%     42733.000000  130526.500000  \n",
       "max     47757.000000  147267.000000  "
      ]
     },
     "execution_count": 12,
     "metadata": {},
     "output_type": "execute_result"
    }
   ],
   "source": [
    "events_df.describe(include='all')"
   ]
  },
  {
   "cell_type": "markdown",
   "metadata": {},
   "source": [
    "Давайте оценим, какие уникальные события есть в колонках event_type и selected_level:"
   ]
  },
  {
   "cell_type": "code",
   "execution_count": 13,
   "metadata": {},
   "outputs": [
    {
     "data": {
      "text/plain": [
       "array(['registration', 'tutorial_start', 'tutorial_finish',\n",
       "       'level_choice', 'training_choice'], dtype=object)"
      ]
     },
     "execution_count": 13,
     "metadata": {},
     "output_type": "execute_result"
    }
   ],
   "source": [
    "events_df['event_type'].unique()"
   ]
  },
  {
   "cell_type": "code",
   "execution_count": 14,
   "metadata": {},
   "outputs": [
    {
     "data": {
      "text/plain": [
       "array([None, 'medium', 'hard', 'easy'], dtype=object)"
      ]
     },
     "execution_count": 14,
     "metadata": {},
     "output_type": "execute_result"
    }
   ],
   "source": [
    "events_df['selected_level'].unique()\n"
   ]
  },
  {
   "cell_type": "markdown",
   "metadata": {},
   "source": [
    "Также оценим, какое количество пользователей совершали события:"
   ]
  },
  {
   "cell_type": "code",
   "execution_count": 15,
   "metadata": {},
   "outputs": [
    {
     "data": {
      "text/plain": [
       "19926"
      ]
     },
     "execution_count": 15,
     "metadata": {},
     "output_type": "execute_result"
    }
   ],
   "source": [
    "events_df['user_id'].nunique()"
   ]
  },
  {
   "cell_type": "markdown",
   "metadata": {},
   "source": [
    " # А8.2.3 Обзор датафрейма с оплатами\n",
    "\n",
    " Обзор датафрейма с оплатами\n",
    "\n",
    "Теперь нам нужно проверить, как события, совершенные пользователями, связаны с последующими оплатами тренировок. Выведем первые 10 строк датафрейма purchase_df с помощью команды head():"
   ]
  },
  {
   "cell_type": "code",
   "execution_count": 16,
   "metadata": {},
   "outputs": [
    {
     "data": {
      "text/html": [
       "<div>\n",
       "<style scoped>\n",
       "    .dataframe tbody tr th:only-of-type {\n",
       "        vertical-align: middle;\n",
       "    }\n",
       "\n",
       "    .dataframe tbody tr th {\n",
       "        vertical-align: top;\n",
       "    }\n",
       "\n",
       "    .dataframe thead th {\n",
       "        text-align: right;\n",
       "    }\n",
       "</style>\n",
       "<table border=\"1\" class=\"dataframe\">\n",
       "  <thead>\n",
       "    <tr style=\"text-align: right;\">\n",
       "      <th></th>\n",
       "      <th>user_id</th>\n",
       "      <th>start_time</th>\n",
       "      <th>amount</th>\n",
       "      <th>id</th>\n",
       "    </tr>\n",
       "  </thead>\n",
       "  <tbody>\n",
       "    <tr>\n",
       "      <th>0</th>\n",
       "      <td>37878</td>\n",
       "      <td>2017-06-30 17:05:21</td>\n",
       "      <td>150</td>\n",
       "      <td>17668</td>\n",
       "    </tr>\n",
       "    <tr>\n",
       "      <th>1</th>\n",
       "      <td>47216</td>\n",
       "      <td>2017-12-22 06:30:31</td>\n",
       "      <td>25</td>\n",
       "      <td>18396</td>\n",
       "    </tr>\n",
       "    <tr>\n",
       "      <th>2</th>\n",
       "      <td>35532</td>\n",
       "      <td>2017-05-21 04:23:32</td>\n",
       "      <td>150</td>\n",
       "      <td>17475</td>\n",
       "    </tr>\n",
       "    <tr>\n",
       "      <th>3</th>\n",
       "      <td>42583</td>\n",
       "      <td>2017-10-17 13:52:14</td>\n",
       "      <td>100</td>\n",
       "      <td>18027</td>\n",
       "    </tr>\n",
       "    <tr>\n",
       "      <th>4</th>\n",
       "      <td>32321</td>\n",
       "      <td>2017-03-20 06:51:27</td>\n",
       "      <td>150</td>\n",
       "      <td>17202</td>\n",
       "    </tr>\n",
       "    <tr>\n",
       "      <th>5</th>\n",
       "      <td>34235</td>\n",
       "      <td>2017-04-23 14:50:26</td>\n",
       "      <td>200</td>\n",
       "      <td>17365</td>\n",
       "    </tr>\n",
       "    <tr>\n",
       "      <th>6</th>\n",
       "      <td>36986</td>\n",
       "      <td>2017-06-18 11:51:41</td>\n",
       "      <td>50</td>\n",
       "      <td>17610</td>\n",
       "    </tr>\n",
       "    <tr>\n",
       "      <th>7</th>\n",
       "      <td>44157</td>\n",
       "      <td>2017-11-15 17:37:02</td>\n",
       "      <td>100</td>\n",
       "      <td>18161</td>\n",
       "    </tr>\n",
       "    <tr>\n",
       "      <th>8</th>\n",
       "      <td>45926</td>\n",
       "      <td>2017-12-05 02:15:59</td>\n",
       "      <td>100</td>\n",
       "      <td>18302</td>\n",
       "    </tr>\n",
       "    <tr>\n",
       "      <th>9</th>\n",
       "      <td>32628</td>\n",
       "      <td>2017-03-23 15:55:57</td>\n",
       "      <td>50</td>\n",
       "      <td>17225</td>\n",
       "    </tr>\n",
       "  </tbody>\n",
       "</table>\n",
       "</div>"
      ],
      "text/plain": [
       "   user_id          start_time  amount     id\n",
       "0    37878 2017-06-30 17:05:21     150  17668\n",
       "1    47216 2017-12-22 06:30:31      25  18396\n",
       "2    35532 2017-05-21 04:23:32     150  17475\n",
       "3    42583 2017-10-17 13:52:14     100  18027\n",
       "4    32321 2017-03-20 06:51:27     150  17202\n",
       "5    34235 2017-04-23 14:50:26     200  17365\n",
       "6    36986 2017-06-18 11:51:41      50  17610\n",
       "7    44157 2017-11-15 17:37:02     100  18161\n",
       "8    45926 2017-12-05 02:15:59     100  18302\n",
       "9    32628 2017-03-23 15:55:57      50  17225"
      ]
     },
     "execution_count": 16,
     "metadata": {},
     "output_type": "execute_result"
    }
   ],
   "source": [
    "purchase_df.head(10)"
   ]
  },
  {
   "cell_type": "markdown",
   "metadata": {},
   "source": [
    "Воспользуемся методом info(), который позволяет получить общую информацию о датафрейме для того, чтобы оценить, какие данные содержаться в датафрейме purchase_df:\n",
    "\n"
   ]
  },
  {
   "cell_type": "code",
   "execution_count": 18,
   "metadata": {},
   "outputs": [
    {
     "name": "stdout",
     "output_type": "stream",
     "text": [
      "<class 'pandas.core.frame.DataFrame'>\n",
      "RangeIndex: 1600 entries, 0 to 1599\n",
      "Data columns (total 4 columns):\n",
      " #   Column      Non-Null Count  Dtype         \n",
      "---  ------      --------------  -----         \n",
      " 0   user_id     1600 non-null   int64         \n",
      " 1   start_time  1600 non-null   datetime64[ns]\n",
      " 2   amount      1600 non-null   int64         \n",
      " 3   id          1600 non-null   int64         \n",
      "dtypes: datetime64[ns](1), int64(3)\n",
      "memory usage: 50.1 KB\n"
     ]
    }
   ],
   "source": [
    "purchase_df.info()"
   ]
  },
  {
   "cell_type": "markdown",
   "metadata": {},
   "source": [
    "Исследуем значения\n",
    "\n",
    "Снова обратимся к методу describe() для того, чтобы оценить характеристики каждого столбца датафрейма purchase_df:"
   ]
  },
  {
   "cell_type": "code",
   "execution_count": 19,
   "metadata": {},
   "outputs": [
    {
     "data": {
      "text/html": [
       "<div>\n",
       "<style scoped>\n",
       "    .dataframe tbody tr th:only-of-type {\n",
       "        vertical-align: middle;\n",
       "    }\n",
       "\n",
       "    .dataframe tbody tr th {\n",
       "        vertical-align: top;\n",
       "    }\n",
       "\n",
       "    .dataframe thead th {\n",
       "        text-align: right;\n",
       "    }\n",
       "</style>\n",
       "<table border=\"1\" class=\"dataframe\">\n",
       "  <thead>\n",
       "    <tr style=\"text-align: right;\">\n",
       "      <th></th>\n",
       "      <th>user_id</th>\n",
       "      <th>amount</th>\n",
       "      <th>id</th>\n",
       "    </tr>\n",
       "  </thead>\n",
       "  <tbody>\n",
       "    <tr>\n",
       "      <th>count</th>\n",
       "      <td>1600.000000</td>\n",
       "      <td>1600.000000</td>\n",
       "      <td>1600.000000</td>\n",
       "    </tr>\n",
       "    <tr>\n",
       "      <th>mean</th>\n",
       "      <td>37752.766250</td>\n",
       "      <td>110.734375</td>\n",
       "      <td>17645.505625</td>\n",
       "    </tr>\n",
       "    <tr>\n",
       "      <th>std</th>\n",
       "      <td>5822.621784</td>\n",
       "      <td>54.696628</td>\n",
       "      <td>462.038637</td>\n",
       "    </tr>\n",
       "    <tr>\n",
       "      <th>min</th>\n",
       "      <td>27845.000000</td>\n",
       "      <td>25.000000</td>\n",
       "      <td>16845.000000</td>\n",
       "    </tr>\n",
       "    <tr>\n",
       "      <th>25%</th>\n",
       "      <td>32815.750000</td>\n",
       "      <td>50.000000</td>\n",
       "      <td>17245.750000</td>\n",
       "    </tr>\n",
       "    <tr>\n",
       "      <th>50%</th>\n",
       "      <td>37633.500000</td>\n",
       "      <td>100.000000</td>\n",
       "      <td>17645.500000</td>\n",
       "    </tr>\n",
       "    <tr>\n",
       "      <th>75%</th>\n",
       "      <td>43023.000000</td>\n",
       "      <td>150.000000</td>\n",
       "      <td>18045.250000</td>\n",
       "    </tr>\n",
       "    <tr>\n",
       "      <th>max</th>\n",
       "      <td>47742.000000</td>\n",
       "      <td>300.000000</td>\n",
       "      <td>18452.000000</td>\n",
       "    </tr>\n",
       "  </tbody>\n",
       "</table>\n",
       "</div>"
      ],
      "text/plain": [
       "            user_id       amount            id\n",
       "count   1600.000000  1600.000000   1600.000000\n",
       "mean   37752.766250   110.734375  17645.505625\n",
       "std     5822.621784    54.696628    462.038637\n",
       "min    27845.000000    25.000000  16845.000000\n",
       "25%    32815.750000    50.000000  17245.750000\n",
       "50%    37633.500000   100.000000  17645.500000\n",
       "75%    43023.000000   150.000000  18045.250000\n",
       "max    47742.000000   300.000000  18452.000000"
      ]
     },
     "execution_count": 19,
     "metadata": {},
     "output_type": "execute_result"
    }
   ],
   "source": [
    "purchase_df.describe()"
   ]
  },
  {
   "cell_type": "markdown",
   "metadata": {},
   "source": [
    " # А8.3.1 Задача анализа данных\n",
    " \n",
    "Какова наша первоочередная задача?\n",
    "\n",
    "Перейдем к анализу данных для того, чтобы выполнить первую нашу задачу: исследовать поведение пользователей.\n",
    "\n",
    " - Определить самые распространенные пути прохождения этапов в приложении.\n",
    " - Определить среднее время между различными этапами.\n",
    "\n",
    "Это исследование позволит нам понять, как пользователи пользуются приложением, сравнить фактический путь пользователей с тем, который был задуман при разработке приложения.\n",
    "\n",
    "Когда мы поймем, какие этапы занимают больше всего времени, мы выясним, какие из этапов нужно оптимизировать."
   ]
  },
  {
   "cell_type": "markdown",
   "metadata": {},
   "source": [
    "  А8.3.2 Анализ события registration\n",
    "\n",
    "Событие registration\n",
    "\n",
    "Для того, чтобы понимать, как пользователи переходят из этапа в этап, на каких этапах возникают сложности, мы должны определить конверсию на каждом из этапов воронки. То есть нам нужно понять, какой процент пользователей переходит с предыдущего этапа на следующий.\n",
    "\n",
    "Посмотрим на количество пользователей, которые совершают событие registration:"
   ]
  },
  {
   "cell_type": "code",
   "execution_count": 22,
   "metadata": {},
   "outputs": [
    {
     "data": {
      "text/plain": [
       "19926"
      ]
     },
     "execution_count": 22,
     "metadata": {},
     "output_type": "execute_result"
    }
   ],
   "source": [
    "events_df[events_df['event_type']=='registration']['user_id'].nunique()"
   ]
  },
  {
   "cell_type": "code",
   "execution_count": 23,
   "metadata": {},
   "outputs": [
    {
     "data": {
      "text/plain": [
       "19926"
      ]
     },
     "execution_count": 23,
     "metadata": {},
     "output_type": "execute_result"
    }
   ],
   "source": [
    "events_df['user_id'].nunique()"
   ]
  },
  {
   "cell_type": "markdown",
   "metadata": {},
   "source": [
    "\n",
    "Как мы видим, все пользователи совершают событие registration. Это обусловлено тем, что этот этап является обязательным для выполнения и без него пользователь не сможет перейти дальше."
   ]
  },
  {
   "cell_type": "markdown",
   "metadata": {},
   "source": [
    "А8.3.3 Анализ событий tutorial_start и tutorial_finish\n",
    "\n",
    "Событие tutorial_start\n",
    "\n",
    "Посмотрим на срез данных по событию tutorial_start:"
   ]
  },
  {
   "cell_type": "code",
   "execution_count": 25,
   "metadata": {},
   "outputs": [
    {
     "data": {
      "text/html": [
       "<div>\n",
       "<style scoped>\n",
       "    .dataframe tbody tr th:only-of-type {\n",
       "        vertical-align: middle;\n",
       "    }\n",
       "\n",
       "    .dataframe tbody tr th {\n",
       "        vertical-align: top;\n",
       "    }\n",
       "\n",
       "    .dataframe thead th {\n",
       "        text-align: right;\n",
       "    }\n",
       "</style>\n",
       "<table border=\"1\" class=\"dataframe\">\n",
       "  <thead>\n",
       "    <tr style=\"text-align: right;\">\n",
       "      <th></th>\n",
       "      <th>event_type</th>\n",
       "      <th>selected_level</th>\n",
       "      <th>start_time</th>\n",
       "      <th>tutorial_id</th>\n",
       "      <th>user_id</th>\n",
       "      <th>id</th>\n",
       "    </tr>\n",
       "  </thead>\n",
       "  <tbody>\n",
       "    <tr>\n",
       "      <th>7</th>\n",
       "      <td>tutorial_start</td>\n",
       "      <td>None</td>\n",
       "      <td>2017-01-01 14:54:40</td>\n",
       "      <td>31505.0</td>\n",
       "      <td>27836</td>\n",
       "      <td>80315</td>\n",
       "    </tr>\n",
       "    <tr>\n",
       "      <th>8</th>\n",
       "      <td>tutorial_start</td>\n",
       "      <td>None</td>\n",
       "      <td>2017-01-01 15:00:51</td>\n",
       "      <td>31506.0</td>\n",
       "      <td>27835</td>\n",
       "      <td>80316</td>\n",
       "    </tr>\n",
       "    <tr>\n",
       "      <th>10</th>\n",
       "      <td>tutorial_start</td>\n",
       "      <td>None</td>\n",
       "      <td>2017-01-01 15:40:43</td>\n",
       "      <td>31507.0</td>\n",
       "      <td>27836</td>\n",
       "      <td>80318</td>\n",
       "    </tr>\n",
       "    <tr>\n",
       "      <th>12</th>\n",
       "      <td>tutorial_start</td>\n",
       "      <td>None</td>\n",
       "      <td>2017-01-01 17:47:40</td>\n",
       "      <td>31508.0</td>\n",
       "      <td>27833</td>\n",
       "      <td>80320</td>\n",
       "    </tr>\n",
       "    <tr>\n",
       "      <th>15</th>\n",
       "      <td>tutorial_start</td>\n",
       "      <td>None</td>\n",
       "      <td>2017-01-01 19:11:36</td>\n",
       "      <td>31509.0</td>\n",
       "      <td>27839</td>\n",
       "      <td>80323</td>\n",
       "    </tr>\n",
       "    <tr>\n",
       "      <th>17</th>\n",
       "      <td>tutorial_start</td>\n",
       "      <td>None</td>\n",
       "      <td>2017-01-01 19:46:11</td>\n",
       "      <td>31510.0</td>\n",
       "      <td>27834</td>\n",
       "      <td>80325</td>\n",
       "    </tr>\n",
       "    <tr>\n",
       "      <th>29</th>\n",
       "      <td>tutorial_start</td>\n",
       "      <td>None</td>\n",
       "      <td>2017-01-02 02:07:07</td>\n",
       "      <td>31511.0</td>\n",
       "      <td>27840</td>\n",
       "      <td>80337</td>\n",
       "    </tr>\n",
       "    <tr>\n",
       "      <th>30</th>\n",
       "      <td>tutorial_start</td>\n",
       "      <td>None</td>\n",
       "      <td>2017-01-02 03:03:44</td>\n",
       "      <td>31512.0</td>\n",
       "      <td>27845</td>\n",
       "      <td>80338</td>\n",
       "    </tr>\n",
       "    <tr>\n",
       "      <th>32</th>\n",
       "      <td>tutorial_start</td>\n",
       "      <td>None</td>\n",
       "      <td>2017-01-02 04:55:11</td>\n",
       "      <td>31513.0</td>\n",
       "      <td>27842</td>\n",
       "      <td>80340</td>\n",
       "    </tr>\n",
       "    <tr>\n",
       "      <th>41</th>\n",
       "      <td>tutorial_start</td>\n",
       "      <td>None</td>\n",
       "      <td>2017-01-02 07:08:00</td>\n",
       "      <td>31514.0</td>\n",
       "      <td>27845</td>\n",
       "      <td>80349</td>\n",
       "    </tr>\n",
       "  </tbody>\n",
       "</table>\n",
       "</div>"
      ],
      "text/plain": [
       "        event_type selected_level          start_time  tutorial_id  user_id  \\\n",
       "7   tutorial_start           None 2017-01-01 14:54:40      31505.0    27836   \n",
       "8   tutorial_start           None 2017-01-01 15:00:51      31506.0    27835   \n",
       "10  tutorial_start           None 2017-01-01 15:40:43      31507.0    27836   \n",
       "12  tutorial_start           None 2017-01-01 17:47:40      31508.0    27833   \n",
       "15  tutorial_start           None 2017-01-01 19:11:36      31509.0    27839   \n",
       "17  tutorial_start           None 2017-01-01 19:46:11      31510.0    27834   \n",
       "29  tutorial_start           None 2017-01-02 02:07:07      31511.0    27840   \n",
       "30  tutorial_start           None 2017-01-02 03:03:44      31512.0    27845   \n",
       "32  tutorial_start           None 2017-01-02 04:55:11      31513.0    27842   \n",
       "41  tutorial_start           None 2017-01-02 07:08:00      31514.0    27845   \n",
       "\n",
       "       id  \n",
       "7   80315  \n",
       "8   80316  \n",
       "10  80318  \n",
       "12  80320  \n",
       "15  80323  \n",
       "17  80325  \n",
       "29  80337  \n",
       "30  80338  \n",
       "32  80340  \n",
       "41  80349  "
      ]
     },
     "execution_count": 25,
     "metadata": {},
     "output_type": "execute_result"
    }
   ],
   "source": [
    "events_df[events_df['event_type']=='tutorial_start'].head(10)"
   ]
  },
  {
   "cell_type": "markdown",
   "metadata": {},
   "source": [
    "Посмотрим на количество пользователей, которые совершают событие tutorial_start:"
   ]
  },
  {
   "cell_type": "code",
   "execution_count": 26,
   "metadata": {},
   "outputs": [
    {
     "data": {
      "text/plain": [
       "11858"
      ]
     },
     "execution_count": 26,
     "metadata": {},
     "output_type": "execute_result"
    }
   ],
   "source": [
    "events_df[events_df['event_type']=='tutorial_start']['user_id'].nunique()"
   ]
  },
  {
   "cell_type": "markdown",
   "metadata": {},
   "source": [
    "Исследуем пользователей, перешедших к обучению\n",
    "\n",
    "Как мы видим, число пользователей, которые перешли к выполнению обучения, меньше, чем число пользователей, прошедших регистрацию. Давайте определим процент пользователей, которые перешли к выполнению обучения и запишем его в переменную percent_tutorial_start_users:"
   ]
  },
  {
   "cell_type": "code",
   "execution_count": 27,
   "metadata": {},
   "outputs": [
    {
     "name": "stdout",
     "output_type": "stream",
     "text": [
      "Процент пользователей, начавших обучение (от общего числа зарегистрировавшихся): 59.51%\n"
     ]
    }
   ],
   "source": [
    "registered_users_count = events_df[events_df['event_type'] == 'registration']['user_id'].nunique()\n",
    "tutorial_start_users_count = events_df[events_df['event_type'] == 'tutorial_start']['user_id'].nunique()\n",
    "percent_tutorial_start_users = tutorial_start_users_count / registered_users_count\n",
    "print ('Процент пользователей, начавших обучение (от общего числа зарегистрировавшихся): {:.2%}'.format(percent_tutorial_start_users))"
   ]
  },
  {
   "cell_type": "markdown",
   "metadata": {},
   "source": [
    "Событие tutorial_finish\n",
    "\n",
    "Теперь давайте посмотрим какое количество пользователей проходит обучение до конца (событие tutorial_finish):"
   ]
  },
  {
   "cell_type": "code",
   "execution_count": 28,
   "metadata": {},
   "outputs": [
    {
     "data": {
      "text/plain": [
       "10250"
      ]
     },
     "execution_count": 28,
     "metadata": {},
     "output_type": "execute_result"
    }
   ],
   "source": [
    "events_df[events_df['event_type'] == 'tutorial_finish']['user_id'].nunique()"
   ]
  },
  {
   "cell_type": "markdown",
   "metadata": {},
   "source": [
    "Рассчитаем процент пользователей, завершивших обучение, среди пользователей, которые начали обучение. Это будет показатель tutorial_completion_rate (коэффициент завершаемости обучения):"
   ]
  },
  {
   "cell_type": "code",
   "execution_count": 29,
   "metadata": {},
   "outputs": [
    {
     "name": "stdout",
     "output_type": "stream",
     "text": [
      "Процент пользователей, завершивших обучение: 86.44%\n"
     ]
    }
   ],
   "source": [
    "tutorial_finish_users_count = events_df[events_df['event_type'] == 'tutorial_finish']['user_id'].nunique()\n",
    "tutorial_completion_rate = tutorial_finish_users_count / tutorial_start_users_count\n",
    "print ('Процент пользователей, завершивших обучение: {:.2%}'.format(tutorial_completion_rate))\n"
   ]
  },
  {
   "cell_type": "markdown",
   "metadata": {},
   "source": [
    "Что мы узнали на этом этапе?\n",
    "\n",
    "В нашем приложении достаточно хороший процент прохождения обучения. Но есть куда стремиться для его увеличения. Подумайте о том, как показатель прохождения может влиять на весь путь пользователя в дальнейшем."
   ]
  },
  {
   "cell_type": "markdown",
   "metadata": {},
   "source": [
    " А8.3.4 Анализ события level_choice\n",
    " \n",
    "Событие level_choice\n",
    "\n",
    "Следующий этап — это выбор уровня сложности level_choice. Давайте посмотрим на процент тех, кто доходит до этого этапа."
   ]
  },
  {
   "cell_type": "code",
   "execution_count": 30,
   "metadata": {},
   "outputs": [
    {
     "data": {
      "text/plain": [
       "8342"
      ]
     },
     "execution_count": 30,
     "metadata": {},
     "output_type": "execute_result"
    }
   ],
   "source": [
    "events_df[events_df['event_type'] == 'level_choice']['user_id'].nunique()"
   ]
  },
  {
   "cell_type": "markdown",
   "metadata": {},
   "source": [
    "Из логики нашего приложения (описанной в начале), следует, что событие выбора уровня сложности тренировок можно совершить и без прохождения обучения. Поэтому рассчитаем долю пользователей percent_level_choice_users, которые выбрали уровень сложности тренировок, от общего числа зарегистрировавшихся:"
   ]
  },
  {
   "cell_type": "code",
   "execution_count": 31,
   "metadata": {},
   "outputs": [
    {
     "name": "stdout",
     "output_type": "stream",
     "text": [
      "Процент пользователей, выбравших уровень сложности тренировок (от общего числа зарегистрировавшихся): 41.86%\n"
     ]
    }
   ],
   "source": [
    "level_choice_users_count = events_df[events_df['event_type'] == 'level_choice']['user_id'].nunique()\n",
    "percent_level_choice_users = level_choice_users_count / registered_users_count\n",
    "print ('Процент пользователей, выбравших уровень сложности тренировок (от общего числа зарегистрировавшихся): {:.2%}'.format(percent_level_choice_users))"
   ]
  },
  {
   "cell_type": "markdown",
   "metadata": {},
   "source": [
    "Таким образом, меньше половины пользователей (41,76 %) доходят до этапа выбора уровня сложности тренировок. А ведь этот этап напрямую влияет на то, что пользователь будет пользоваться приложением через бесплатные тренировки, которые в дальнейшем могут привести к оплате. Так что оптимизировать прохождение до этого этапа крайне важно для успешной монетизации приложения."
   ]
  },
  {
   "cell_type": "code",
   "execution_count": null,
   "metadata": {},
   "outputs": [],
   "source": []
  }
 ],
 "metadata": {
  "kernelspec": {
   "display_name": "Python 3",
   "language": "python",
   "name": "python3"
  },
  "language_info": {
   "codemirror_mode": {
    "name": "ipython",
    "version": 3
   },
   "file_extension": ".py",
   "mimetype": "text/x-python",
   "name": "python",
   "nbconvert_exporter": "python",
   "pygments_lexer": "ipython3",
   "version": "3.7.6"
  }
 },
 "nbformat": 4,
 "nbformat_minor": 4
}
